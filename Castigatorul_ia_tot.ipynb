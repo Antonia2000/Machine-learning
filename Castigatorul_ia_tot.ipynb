{
 "cells": [
  {
   "cell_type": "code",
   "execution_count": 33,
   "id": "fcd2c642",
   "metadata": {},
   "outputs": [
    {
     "name": "stdout",
     "output_type": "stream",
     "text": [
      "Pentru prototipul  [45, 85]  este asociat pattern-ul [50.5806598 53.1975486]\n",
      "Pentru prototipul  [50, 43]  este asociat pattern-ul [54.99673721 42.00824507]\n",
      "Pentru prototipul  [40, 80]  este asociat pattern-ul [50.5806598 53.1975486]\n",
      "Pentru prototipul  [55, 42]  este asociat pattern-ul [54.99673721 42.00824507]\n",
      "Pentru prototipul  [200, 43]  este asociat pattern-ul [54.99673721 42.00824507]\n",
      "Pentru prototipul  [48, 40]  este asociat pattern-ul [54.99673721 42.00824507]\n",
      "Pentru prototipul  [195, 41]  este asociat pattern-ul [54.99673721 42.00824507]\n",
      "Pentru prototipul  [43, 87]  este asociat pattern-ul [50.5806598 53.1975486]\n",
      "Pentru prototipul  [190, 40]  este asociat pattern-ul [54.99673721 42.00824507]\n"
     ]
    }
   ],
   "source": [
    "import numpy as np\n",
    "\n",
    "x1 = [45,85]\n",
    "x2 = [50,43]\n",
    "x3 = [40,80]\n",
    "x4 = [55,42]\n",
    "x5 = [200,43]\n",
    "x6 = [48,40]\n",
    "x7 = [195,41]\n",
    "x8 = [43,87]\n",
    "x9 = [190,40]\n",
    "X = [x1, x2, x3, x4, x5, x6, x7, x8, x9]\n",
    "\n",
    "w1 = np.random.randint(40,100, size = 2)\n",
    "w2 = np.random.randint(40,100, size = 2)\n",
    "w3 = np.random.randint(40,100, size = 2)\n",
    "W = [w1, w2, w3]\n",
    "dist = 0\n",
    "v=[]\n",
    "e=5\n",
    "\n",
    "def castig(X, W, c):\n",
    "    for i in range(e):\n",
    "            for j in range(len(X)):\n",
    "                for k in range(len(W)):\n",
    "                    dist = abs(X[j][0]-W[k][0])+abs(X[j][1]-W[k][1])\n",
    "                     #print(dist)\n",
    "                    v.append(dist)\n",
    "                    dist_min = np.min(v)\n",
    "                    \n",
    "                index=v.index(dist_min)\n",
    "                v.clear()\n",
    "                if (i!=e-1):\n",
    "                    W[index]=W[index] + c*(X[i]-W[index])\n",
    "                else:\n",
    "                    print(\"Pentru prototipul \",X[j], \" este asociat pattern-ul\",W[index])\n",
    "castig(X,W,0.7)\n"
   ]
  }
 ],
 "metadata": {
  "kernelspec": {
   "display_name": "Python 3",
   "language": "python",
   "name": "python3"
  },
  "language_info": {
   "codemirror_mode": {
    "name": "ipython",
    "version": 3
   },
   "file_extension": ".py",
   "mimetype": "text/x-python",
   "name": "python",
   "nbconvert_exporter": "python",
   "pygments_lexer": "ipython3",
   "version": "3.8.8"
  }
 },
 "nbformat": 4,
 "nbformat_minor": 5
}

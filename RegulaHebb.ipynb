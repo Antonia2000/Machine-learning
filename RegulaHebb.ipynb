{
 "cells": [
  {
   "cell_type": "code",
   "execution_count": 2,
   "id": "3fdade98",
   "metadata": {},
   "outputs": [
    {
     "name": "stdout",
     "output_type": "stream",
     "text": [
      "1.\n",
      "Net:  3.0\n",
      "w urmator:  [ 2.  -3.   1.5  0.5]\n",
      "Net:  -0.25\n",
      "w urmator:  [ 1.  -2.5  3.5  2. ]\n",
      "Net:  -3.0\n",
      "w urmator:  [ 1.  -3.5  4.5  0.5]\n",
      "\n",
      "Net:  3.0\n",
      "w urmator:  [ 1.90514825 -2.81029651  1.35772238  0.5       ]\n",
      "Net:  -0.15514825364486695\n",
      "w urmator:  [ 1.82772936 -2.77158706  1.51256017  0.61612834]\n",
      "Net:  -3.3599547177330287\n",
      "w urmator:  [ 1.82772936 -3.70444568  2.44541878 -0.78315958]\n",
      "\n",
      "2.\n",
      "Net:  3\n",
      "w urmator:  [ 2 -3]\n",
      "Net:  -3\n",
      "w urmator:  [ 2 -4]\n",
      "Net:  -8\n",
      "w urmator:  [ 0 -7]\n",
      "Net:  7\n",
      "w urmator:  [ 1 -8]\n",
      "\n",
      "Net:  3\n",
      "w urmator:  [ 1.90514825 -2.81029651]\n",
      "Net:  -2.8102965072897335\n",
      "w urmator:  [ 1.90514825 -3.6967559 ]\n",
      "Net:  -7.279971205475103\n",
      "w urmator:  [-0.09209682 -6.69262352]\n",
      "Net:  6.600526696436205\n",
      "w urmator:  [ 0.90518757 -7.68990791]\n"
     ]
    }
   ],
   "source": [
    "import numpy as np\n",
    "\n",
    "#Initializare \n",
    "x1 = [[1,-2,1.5,0],[1,-0.5,-2,-1.5],[0,1,-1,1.5]]\n",
    "w1 = [1,-1,0,0.5]\n",
    "\n",
    "x2 = [[1,-2],[0,1], [2,3], [1,-1]]\n",
    "w2 = [1,-1]\n",
    "\n",
    "#1.Functie Binara\n",
    "def fct_binara(x,w):\n",
    "    for i in range(len(x)):              #Parcurgerea vectorului x\n",
    "        net=np.sum(np.multiply(w,x[i]))  #Calcul net\n",
    "        print(\"Net: \",net)              \n",
    "        w_urm=w+np.multiply(np.sign(net),x[i])  #Calculul urmatoarei ponderi\n",
    "        print(\"w urmator: \",w_urm)      \n",
    "        w=w_urm                          #Actualizare pondere\n",
    "\n",
    "#2.Functie continua\n",
    "def fct_continua(x,w):\n",
    "    for i in range(len(x)):              #Parcurgere vector\n",
    "        net=np.sum(np.multiply(w,x[i]))  #calcul net     \n",
    "        print(\"Net: \", net)             \n",
    "        f_net = 2/(1+np.exp(-net))-1     #calcul functie bipolara\n",
    "        w_urm=w+np.multiply(f_net,x[i])  #calculul urmatoarei ponderi\n",
    "        print(\"w urmator: \",w_urm)      \n",
    "        w=w_urm                          #actualizare pondere\n",
    "        \n",
    "print(\"1.\")\n",
    "fct_binara(x1,w1)\n",
    "print()\n",
    "fct_continua(x1,w1)\n",
    "print()\n",
    "print(\"2.\")\n",
    "fct_binara(x2,w2)\n",
    "print()\n",
    "fct_continua(x2,w2)\n"
   ]
  }
 ],
 "metadata": {
  "kernelspec": {
   "display_name": "Python 3",
   "language": "python",
   "name": "python3"
  },
  "language_info": {
   "codemirror_mode": {
    "name": "ipython",
    "version": 3
   },
   "file_extension": ".py",
   "mimetype": "text/x-python",
   "name": "python",
   "nbconvert_exporter": "python",
   "pygments_lexer": "ipython3",
   "version": "3.8.8"
  }
 },
 "nbformat": 4,
 "nbformat_minor": 5
}

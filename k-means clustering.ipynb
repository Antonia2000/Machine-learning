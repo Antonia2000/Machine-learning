{
 "cells": [
  {
   "cell_type": "code",
   "execution_count": 7,
   "id": "eb34a321",
   "metadata": {},
   "outputs": [
    {
     "name": "stdout",
     "output_type": "stream",
     "text": [
      "[[190, 40], [50, 43], [43, 87]]\n",
      "2\n",
      "1\n",
      "2\n",
      "1\n",
      "0\n",
      "1\n",
      "0\n",
      "2\n",
      "0\n",
      "[[121.5, 118.0], [46.5, 48.5], [65.0, 60.0]]\n",
      "[[121.5, 118.0], [46.5, 48.5], [65.0, 60.0]]\n",
      "[[121.5, 118.0], [46.5, 48.5], [65.0, 60.0]]\n",
      "[[121.5, 118.0], [46.5, 48.5], [65.0, 60.0]]\n",
      "[[121.5, 118.0], [46.5, 48.5], [65.0, 60.0]]\n",
      "[[121.5, 118.0], [46.5, 48.5], [65.0, 60.0]]\n",
      "[[121.5, 118.0], [46.5, 48.5], [65.0, 60.0]]\n",
      "[[121.5, 118.0], [46.5, 48.5], [65.0, 60.0]]\n",
      "[[121.5, 118.0], [46.5, 48.5], [65.0, 60.0]]\n"
     ]
    }
   ],
   "source": [
    "import numpy as np \n",
    "import random\n",
    "K=3\n",
    "\n",
    "P1 = [45, 85]\n",
    "P2 = [50, 43]\n",
    "P3 = [40, 80]\n",
    "P4 = [55, 42]\n",
    "P5 = [200, 43]\n",
    "P6 = [48, 40]\n",
    "P7 = [195, 41]\n",
    "P8 = [43, 87]\n",
    "P9 = [190, 40]\n",
    "P=[P1, P2, P3, P4, P5, P6, P7, P8, P9]\n",
    "\n",
    "cent1 = random.choice(P)\n",
    "cent2 = random.choice(P)\n",
    "cent3 = random.choice(P)\n",
    "centroid = [cent1, cent2, cent3]\n",
    "print(centroid)\n",
    "\n",
    "# clust1 = centroid[0]\n",
    "# clust2 = centroid[1]\n",
    "clust = [[],[],[]]\n",
    "centroid_vechi = []\n",
    "\n",
    "\n",
    "\n",
    "def distanta(a, b):\n",
    "    return abs(a[0]-b[0])+abs(a[1]-b[1])\n",
    "\n",
    "\n",
    "distante = []\n",
    "while True:\n",
    "    for i in range(len(P)):\n",
    "        for j in range(len(centroid)):\n",
    "            distante.append(distanta(P[i],centroid[j]))\n",
    "        index = np.argmin(distante)\n",
    "        print(index)\n",
    "        distante.clear()\n",
    "        if index == 0:\n",
    "            clust[index].append(P[i])\n",
    "        if index == 1:\n",
    "            clust[index].append(P[i])\n",
    "        if index == 2:\n",
    "            clust[index].append(P[i])\n",
    "\n",
    "    centroid_vechi = centroid\n",
    "    for j in range(len(P)):\n",
    "        for i in range(len(centroid)):\n",
    "            centroid[i] = [np.average(clust[i][0]),np.average(clust[i][1])]\n",
    "        print(centroid)  \n",
    "    if centroid[0] == centroid_vechi[0] and centroid[1] == centroid_vechi[1] and centroid[2] ==centroid_vechi[2]:\n",
    "        break\n",
    "        centroid.clear()"
   ]
  }
 ],
 "metadata": {
  "kernelspec": {
   "display_name": "Python 3",
   "language": "python",
   "name": "python3"
  },
  "language_info": {
   "codemirror_mode": {
    "name": "ipython",
    "version": 3
   },
   "file_extension": ".py",
   "mimetype": "text/x-python",
   "name": "python",
   "nbconvert_exporter": "python",
   "pygments_lexer": "ipython3",
   "version": "3.8.8"
  }
 },
 "nbformat": 4,
 "nbformat_minor": 5
}

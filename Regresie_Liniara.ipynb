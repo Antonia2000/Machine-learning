{
 "cells": [
  {
   "cell_type": "code",
   "execution_count": 1,
   "id": "ffee4334",
   "metadata": {},
   "outputs": [
    {
     "name": "stdout",
     "output_type": "stream",
     "text": [
      "[1.1, 1.5, 2.2, 3.0, 3.2, 3.9, 4.0, 4.5, 5.1, 5.9, 6.8, 7.9, 8.7, 9.5, 10.3]\n",
      "[39.343, 37.731, 39.891, 60.15, 64.445, 63.218, 56.957, 61.111, 66.029, 81.363, 91.738, 101.302, 109.431, 116.969, 122.391]\n",
      "Pasul 1 \n",
      "Parametrii dreptei de regresie sunt: 60 , 48\n",
      "Pasul 2 \n",
      "Parametrii dreptei de regresie sunt: 41.88910799999999 , 0\n"
     ]
    }
   ],
   "source": [
    "# regresie liniara\n",
    "\n",
    "# citirea din fisier\n",
    "import csv\n",
    "import random\n",
    "\n",
    "x = []\n",
    "y = []\n",
    "with open(r'C:\\Users\\lenovo\\Desktop\\IA\\Salary_Data.csv') as csvfile:\n",
    "    readCSV = csv.reader(csvfile, delimiter = ',')\n",
    "    for row in readCSV:\n",
    "        if len(row) == 2:\n",
    "            x.append(float(row[0]))\n",
    "            y.append(float(row[1]))\n",
    "            \n",
    "            \n",
    "print(x)\n",
    "print(y)\n",
    "\n",
    "\n",
    "c = 0.01\n",
    "w1 = random.randint(1,100)\n",
    "w2 = random.randint(1,100)\n",
    "w1_n = 0\n",
    "w2_n = 0\n",
    "k = 0\n",
    "eroare1 = 0\n",
    "eroare2 =0\n",
    "precizie = 0.0001\n",
    "previous_step_size = 1\n",
    "previous_step_size1 = 1\n",
    "while (previous_step_size > precizie and previous_step_size1 > precizie):\n",
    "    for i in range(len(x)):\n",
    "            eroare1 = eroare1+(w1+(y[i]-(w1*x[i]+w2))*x[i])\n",
    "            eroare2 =eroare2 + (w2+y[i]-(w1*x[i]+w2))\n",
    "    eroare1 = -eroare1/len(x)\n",
    "    eroare2 = -eroare2/len(y)\n",
    "\n",
    "    w1_n = w1 - c * eroare1\n",
    "    W2_n = w2 - c * eroare2\n",
    "    previous_step_size = abs(w1_n-w1) \n",
    "    previous_step_size1 = abs(w2_n-w2)\n",
    "    k = k+1\n",
    "    print(\"Pasul\",k,\"\\nParametrii dreptei de regresie sunt:\",w1, \",\", w2)  \n",
    "    w1 = w1_n\n",
    "    w2 = w2_n\n",
    "    \n",
    "    "
   ]
  }
 ],
 "metadata": {
  "kernelspec": {
   "display_name": "Python 3",
   "language": "python",
   "name": "python3"
  },
  "language_info": {
   "codemirror_mode": {
    "name": "ipython",
    "version": 3
   },
   "file_extension": ".py",
   "mimetype": "text/x-python",
   "name": "python",
   "nbconvert_exporter": "python",
   "pygments_lexer": "ipython3",
   "version": "3.8.8"
  }
 },
 "nbformat": 4,
 "nbformat_minor": 5
}
